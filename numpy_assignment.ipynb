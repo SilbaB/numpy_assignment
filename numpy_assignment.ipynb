{
 "cells": [
  {
   "cell_type": "code",
   "execution_count": 1,
   "id": "26f0c901-b027-4498-ad1c-80c4557887f8",
   "metadata": {},
   "outputs": [],
   "source": [
    "import numpy as np\n"
   ]
  },
  {
   "cell_type": "code",
   "execution_count": 2,
   "id": "a60031c5-3655-4ddb-8466-54b32ed1a121",
   "metadata": {},
   "outputs": [],
   "source": [
    "heights = np.array([160, 155, 172, 165, 180, 158, 175, 163, 171, 168])"
   ]
  },
  {
   "cell_type": "code",
   "execution_count": 3,
   "id": "66606cea-82a8-4595-b421-958ac1b040e7",
   "metadata": {},
   "outputs": [],
   "source": [
    "#Calculate the mean, median, and standard deviation of the students' heights."
   ]
  },
  {
   "cell_type": "code",
   "execution_count": 4,
   "id": "ab6a6e5c-076c-4a7e-aeaf-762e22b7c40a",
   "metadata": {},
   "outputs": [
    {
     "data": {
      "text/plain": [
       "166.7"
      ]
     },
     "execution_count": 4,
     "metadata": {},
     "output_type": "execute_result"
    }
   ],
   "source": [
    "mean=np.mean(heights)\n",
    "mean"
   ]
  },
  {
   "cell_type": "code",
   "execution_count": 5,
   "id": "15baa34f-516e-4cd2-bbf4-84a8b2581255",
   "metadata": {},
   "outputs": [
    {
     "data": {
      "text/plain": [
       "166.5"
      ]
     },
     "execution_count": 5,
     "metadata": {},
     "output_type": "execute_result"
    }
   ],
   "source": [
    "median=np.median(heights)\n",
    "median"
   ]
  },
  {
   "cell_type": "code",
   "execution_count": 7,
   "id": "36a34278-f37a-4ddb-86fa-0325b48ffc1e",
   "metadata": {},
   "outputs": [
    {
     "data": {
      "text/plain": [
       "7.5372408744845085"
      ]
     },
     "execution_count": 7,
     "metadata": {},
     "output_type": "execute_result"
    }
   ],
   "source": [
    "std_dev=np.std(heights)\n",
    "std_dev"
   ]
  },
  {
   "cell_type": "code",
   "execution_count": 8,
   "id": "14a4d504-2c76-4004-84cd-a1d46bf3fa29",
   "metadata": {},
   "outputs": [],
   "source": [
    "#Create a new array with the heights normalized, i.e., each height value should be transformed to have a mean of 0 and a standard deviation of 1."
   ]
  },
  {
   "cell_type": "code",
   "execution_count": 9,
   "id": "c5eeaad4-16b5-4565-8f02-2c53e60ef3bd",
   "metadata": {},
   "outputs": [
    {
     "name": "stdout",
     "output_type": "stream",
     "text": [
      "Normalized Heights: [-0.88891945 -1.55229217  0.70317509 -0.22554673  1.76457144 -1.15426854\n",
      "  1.10119872 -0.49089581  0.57050054  0.17247691]\n"
     ]
    }
   ],
   "source": [
    "normalized_heights= (heights - mean) / std_dev\n",
    "print(\"Normalized Heights:\", normalized_heights)"
   ]
  },
  {
   "cell_type": "code",
   "execution_count": 10,
   "id": "197650fb-3f3e-4073-840c-5d7bcae1d1ee",
   "metadata": {},
   "outputs": [],
   "source": [
    "#Determine the tallest and shortest students in the class using NumPy's argmax and argmin functions."
   ]
  },
  {
   "cell_type": "code",
   "execution_count": 11,
   "id": "2c8e3882-86e5-4e9a-8cd0-11a8ac544a47",
   "metadata": {},
   "outputs": [
    {
     "data": {
      "text/plain": [
       "4"
      ]
     },
     "execution_count": 11,
     "metadata": {},
     "output_type": "execute_result"
    }
   ],
   "source": [
    "tallest_student=np.argmax(heights)\n",
    "tallest_student"
   ]
  },
  {
   "cell_type": "code",
   "execution_count": 12,
   "id": "88d721b1-3880-4b45-bd72-7649e6f9047a",
   "metadata": {},
   "outputs": [
    {
     "data": {
      "text/plain": [
       "1"
      ]
     },
     "execution_count": 12,
     "metadata": {},
     "output_type": "execute_result"
    }
   ],
   "source": [
    "shortest_student=np.argmin(heights)\n",
    "shortest_student"
   ]
  },
  {
   "cell_type": "code",
   "execution_count": 13,
   "id": "91290d1d-6c64-4fd8-90f4-44b47695d9b5",
   "metadata": {},
   "outputs": [],
   "source": [
    "#Calculate the difference between the tallest and shortest students' heights."
   ]
  },
  {
   "cell_type": "code",
   "execution_count": 16,
   "id": "4b5cc7cf-dec3-4856-90db-3c8294bb5b84",
   "metadata": {},
   "outputs": [
    {
     "data": {
      "text/plain": [
       "25"
      ]
     },
     "execution_count": 16,
     "metadata": {},
     "output_type": "execute_result"
    }
   ],
   "source": [
    "height_diff=heights[tallest_student]-heights[shortest_student]\n",
    "height_diff"
   ]
  },
  {
   "cell_type": "code",
   "execution_count": 18,
   "id": "19250deb-037b-43b0-995d-23818d9357b2",
   "metadata": {},
   "outputs": [
    {
     "data": {
      "text/plain": [
       "array([155, 171, 165, 175, 172])"
      ]
     },
     "execution_count": 18,
     "metadata": {},
     "output_type": "execute_result"
    }
   ],
   "source": [
    "random_selection = np.random.choice(heights, size=5, replace=False)\n",
    "random_selection"
   ]
  },
  {
   "cell_type": "code",
   "execution_count": null,
   "id": "de917ab7-dd2a-48cf-a3bb-e02bbadaf598",
   "metadata": {},
   "outputs": [],
   "source": []
  }
 ],
 "metadata": {
  "kernelspec": {
   "display_name": "Python 3 (ipykernel)",
   "language": "python",
   "name": "python3"
  },
  "language_info": {
   "codemirror_mode": {
    "name": "ipython",
    "version": 3
   },
   "file_extension": ".py",
   "mimetype": "text/x-python",
   "name": "python",
   "nbconvert_exporter": "python",
   "pygments_lexer": "ipython3",
   "version": "3.11.7"
  }
 },
 "nbformat": 4,
 "nbformat_minor": 5
}
